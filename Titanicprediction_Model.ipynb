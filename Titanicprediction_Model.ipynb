{
 "cells": [
  {
   "cell_type": "markdown",
   "id": "e7ee4058",
   "metadata": {},
   "source": [
    "# Project : \n",
    "## Predict if Passegers  Survived the Titanic Disaster or not, why and what to do to ensure the chance of such happening is extremely slim in the future.\n",
    "\n",
    "<ul>\n",
    "<li><a href=\"#intro\">Introduction</a></li>\n",
    "<li><a href=\"#Fea\">Feature Engineering/Data Preprocessing</a></li>\n",
    "<li><a href=\"#mod\">Modeling</a></li>\n",
    "<li><a href=\"#modeva\">Model Evaluation</a></li>\n",
    "<li><a href=\"#hyp\">HyperParameter Optimization</a></li>\n",
    "<li><a href=\"#conclusions\">Conclusions</a></li>\n",
    "</ul>\n",
    "\n",
    "## Full Name : Odelola Solomon Oluwatobiloba\n",
    "\n",
    "<a id='intro'></a>\n",
    "## Introduction\n",
    "The disaster happened on 15th of april 1912 where so many passengers died and few survived the incident. In this project i will be predicting if passengers survived and using so many analytical patterns to achieve the predictions, i will build a model to solve the problem\n",
    "\n",
    "**Description of Each Variable**\n",
    "- fare : Passengers tfare\n",
    "- Pclass : Passengers class\n",
    "- Embarked: Point of Embarkation (c= Cherbourg, Q= Queenstown, S=Southampton)\n",
    "- Cabin: cabin\n",
    "- Parch: Number of parents/children on board\n",
    "- Ticket: Ticket Number\n",
    "- Sibsp: Number of Siblings or Spouse on board"
   ]
  },
  {
   "cell_type": "code",
   "execution_count": 1,
   "id": "d4a6f097",
   "metadata": {},
   "outputs": [],
   "source": [
    "import pandas as pd\n",
    "import numpy as np\n",
    "import seaborn as sns\n",
    "import matplotlib.pyplot as plt\n",
    "%matplotlib inline"
   ]
  },
  {
   "cell_type": "code",
   "execution_count": 37,
   "id": "0ec22d26",
   "metadata": {},
   "outputs": [],
   "source": [
    "df=pd.read_csv('cleanedtitanic2.csv')"
   ]
  },
  {
   "cell_type": "code",
   "execution_count": 38,
   "id": "e2823603",
   "metadata": {},
   "outputs": [
    {
     "data": {
      "text/html": [
       "<div>\n",
       "<style scoped>\n",
       "    .dataframe tbody tr th:only-of-type {\n",
       "        vertical-align: middle;\n",
       "    }\n",
       "\n",
       "    .dataframe tbody tr th {\n",
       "        vertical-align: top;\n",
       "    }\n",
       "\n",
       "    .dataframe thead th {\n",
       "        text-align: right;\n",
       "    }\n",
       "</style>\n",
       "<table border=\"1\" class=\"dataframe\">\n",
       "  <thead>\n",
       "    <tr style=\"text-align: right;\">\n",
       "      <th></th>\n",
       "      <th>Unnamed: 0</th>\n",
       "      <th>Passenger_id</th>\n",
       "      <th>Survived</th>\n",
       "      <th>Passenger_class</th>\n",
       "      <th>Name</th>\n",
       "      <th>Sex</th>\n",
       "      <th>Age</th>\n",
       "      <th>Siblings_Spouse</th>\n",
       "      <th>Parents_Children</th>\n",
       "      <th>Ticket_Number</th>\n",
       "      <th>Passenger_Fare</th>\n",
       "      <th>Cabin</th>\n",
       "      <th>Embarked</th>\n",
       "    </tr>\n",
       "  </thead>\n",
       "  <tbody>\n",
       "    <tr>\n",
       "      <th>0</th>\n",
       "      <td>1</td>\n",
       "      <td>1</td>\n",
       "      <td>0</td>\n",
       "      <td>3</td>\n",
       "      <td>Braund, Mr. Owen Harris</td>\n",
       "      <td>male</td>\n",
       "      <td>22.0</td>\n",
       "      <td>1.0</td>\n",
       "      <td>0.0</td>\n",
       "      <td>A/5 21171</td>\n",
       "      <td>7.2500</td>\n",
       "      <td>C23 C25 C27</td>\n",
       "      <td>S</td>\n",
       "    </tr>\n",
       "    <tr>\n",
       "      <th>1</th>\n",
       "      <td>2</td>\n",
       "      <td>2</td>\n",
       "      <td>1</td>\n",
       "      <td>1</td>\n",
       "      <td>Cumings, Mrs. John Bradley (Florence Briggs Th...</td>\n",
       "      <td>female</td>\n",
       "      <td>38.0</td>\n",
       "      <td>1.0</td>\n",
       "      <td>0.0</td>\n",
       "      <td>PC 17599</td>\n",
       "      <td>71.2833</td>\n",
       "      <td>C85</td>\n",
       "      <td>C</td>\n",
       "    </tr>\n",
       "  </tbody>\n",
       "</table>\n",
       "</div>"
      ],
      "text/plain": [
       "   Unnamed: 0  Passenger_id  Survived  Passenger_class  \\\n",
       "0           1             1         0                3   \n",
       "1           2             2         1                1   \n",
       "\n",
       "                                                Name     Sex   Age  \\\n",
       "0                            Braund, Mr. Owen Harris    male  22.0   \n",
       "1  Cumings, Mrs. John Bradley (Florence Briggs Th...  female  38.0   \n",
       "\n",
       "   Siblings_Spouse  Parents_Children Ticket_Number  Passenger_Fare  \\\n",
       "0              1.0               0.0     A/5 21171          7.2500   \n",
       "1              1.0               0.0      PC 17599         71.2833   \n",
       "\n",
       "         Cabin Embarked  \n",
       "0  C23 C25 C27        S  \n",
       "1          C85        C  "
      ]
     },
     "execution_count": 38,
     "metadata": {},
     "output_type": "execute_result"
    }
   ],
   "source": [
    "df.head(2)"
   ]
  },
  {
   "cell_type": "code",
   "execution_count": 40,
   "id": "8e74482b",
   "metadata": {},
   "outputs": [
    {
     "data": {
      "text/plain": [
       "array([0., 1., 2., 5., 3., 4., 6.])"
      ]
     },
     "execution_count": 40,
     "metadata": {},
     "output_type": "execute_result"
    }
   ],
   "source": [
    "df['Parents_Children'].unique()"
   ]
  },
  {
   "cell_type": "markdown",
   "id": "2f1d7722",
   "metadata": {},
   "source": [
    "<a id='Fea'></a>\n",
    "## Feature Engineering/Data Preprocessing"
   ]
  },
  {
   "cell_type": "code",
   "execution_count": 4,
   "id": "871b80d0",
   "metadata": {},
   "outputs": [],
   "source": [
    "df=df.drop(columns=['Unnamed: 0'], axis=1)"
   ]
  },
  {
   "cell_type": "code",
   "execution_count": 5,
   "id": "ffdd9c08",
   "metadata": {},
   "outputs": [
    {
     "data": {
      "text/plain": [
       "Passenger_id          int64\n",
       "Survived              int64\n",
       "Passenger_class       int64\n",
       "Name                 object\n",
       "Sex                  object\n",
       "Age                 float64\n",
       "Siblings_Spouse     float64\n",
       "Parents_Children    float64\n",
       "Ticket_Number        object\n",
       "Passenger_Fare      float64\n",
       "Cabin                object\n",
       "Embarked             object\n",
       "dtype: object"
      ]
     },
     "execution_count": 5,
     "metadata": {},
     "output_type": "execute_result"
    }
   ],
   "source": [
    "df.dtypes"
   ]
  },
  {
   "cell_type": "code",
   "execution_count": 6,
   "id": "b9a8a80f",
   "metadata": {},
   "outputs": [
    {
     "data": {
      "image/png": "[encoded data removed]",
      "text/plain": [
       "<Figure size 500x500 with 1 Axes>"
      ]
     },
     "metadata": {},
     "output_type": "display_data"
    }
   ],
   "source": [
    "#check for outliers\n",
    "\n",
    "plt.figure(figsize=[5,5])\n",
    "sns.boxplot(data=df, x='Age');"
   ]
  },
  {
   "cell_type": "code",
   "execution_count": 7,
   "id": "cb947429",
   "metadata": {},
   "outputs": [
    {
     "data": {
      "image/png": "[encoded data removed]",
      "text/plain": [
       "<Figure size 500x500 with 1 Axes>"
      ]
     },
     "metadata": {},
     "output_type": "display_data"
    }
   ],
   "source": [
    "plt.figure(figsize=[5,5])\n",
    "sns.boxplot(data=df, x='Siblings_Spouse');"
   ]
  },
  {
   "cell_type": "code",
   "execution_count": 8,
   "id": "d005b16f",
   "metadata": {},
   "outputs": [
    {
     "data": {
      "image/png": "[encoded data removed]",
      "text/plain": [
       "<Figure size 500x500 with 1 Axes>"
      ]
     },
     "metadata": {},
     "output_type": "display_data"
    }
   ],
   "source": [
    "plt.figure(figsize=[5,5])\n",
    "sns.boxplot(data=df, x='Passenger_Fare');"
   ]
  },
  {
   "cell_type": "code",
   "execution_count": 9,
   "id": "6f5f0d7a",
   "metadata": {},
   "outputs": [
    {
     "name": "stdout",
     "output_type": "stream",
     "text": [
      "first quartile Passenger_id        223.5000\n",
      "Survived              0.0000\n",
      "Passenger_class       2.0000\n",
      "Age                  22.0000\n",
      "Siblings_Spouse       0.0000\n",
      "Parents_Children      0.0000\n",
      "Passenger_Fare        7.9104\n",
      "Name: 0.25, dtype: float64\n"
     ]
    }
   ],
   "source": [
    "Q1 = df.quantile(.25, axis=0)\n",
    "print('first quartile',Q1)"
   ]
  },
  {
   "cell_type": "code",
   "execution_count": 10,
   "id": "0800a2f4",
   "metadata": {},
   "outputs": [
    {
     "name": "stdout",
     "output_type": "stream",
     "text": [
      "first quartile Passenger_id        668.5\n",
      "Survived              1.0\n",
      "Passenger_class       3.0\n",
      "Age                  35.0\n",
      "Siblings_Spouse       1.0\n",
      "Parents_Children      0.0\n",
      "Passenger_Fare       31.0\n",
      "Name: 0.75, dtype: float64\n"
     ]
    }
   ],
   "source": [
    "Q3 = df.quantile(.75, axis=0)\n",
    "print('first quartile',Q3)"
   ]
  },
  {
   "cell_type": "code",
   "execution_count": 11,
   "id": "4fc250b3",
   "metadata": {},
   "outputs": [
    {
     "data": {
      "text/plain": [
       "Passenger_id        445.0000\n",
       "Survived              1.0000\n",
       "Passenger_class       1.0000\n",
       "Age                  13.0000\n",
       "Siblings_Spouse       1.0000\n",
       "Parents_Children      0.0000\n",
       "Passenger_Fare       23.0896\n",
       "dtype: float64"
      ]
     },
     "execution_count": 11,
     "metadata": {},
     "output_type": "execute_result"
    }
   ],
   "source": [
    "IQR= Q3-Q1\n",
    "IQR"
   ]
  },
  {
   "cell_type": "code",
   "execution_count": 12,
   "id": "133747f4",
   "metadata": {},
   "outputs": [
    {
     "name": "stderr",
     "output_type": "stream",
     "text": [
      "C:\\Users\\512GB\\AppData\\Local\\Temp\\ipykernel_9232\\3176936886.py:1: FutureWarning: Automatic reindexing on DataFrame vs Series comparisons is deprecated and will raise ValueError in a future version. Do `left, right = left.align(right, axis=1, copy=False)` before e.g. `left == right`\n",
      "  df_outliers=df[((df < (Q1-1.5 * IQR)) | (df > (Q3 + 1.5 * IQR))).any(axis=1)]\n"
     ]
    },
    {
     "data": {
      "text/html": [
       "<div>\n",
       "<style scoped>\n",
       "    .dataframe tbody tr th:only-of-type {\n",
       "        vertical-align: middle;\n",
       "    }\n",
       "\n",
       "    .dataframe tbody tr th {\n",
       "        vertical-align: top;\n",
       "    }\n",
       "\n",
       "    .dataframe thead th {\n",
       "        text-align: right;\n",
       "    }\n",
       "</style>\n",
       "<table border=\"1\" class=\"dataframe\">\n",
       "  <thead>\n",
       "    <tr style=\"text-align: right;\">\n",
       "      <th></th>\n",
       "      <th>Passenger_id</th>\n",
       "      <th>Survived</th>\n",
       "      <th>Passenger_class</th>\n",
       "      <th>Name</th>\n",
       "      <th>Sex</th>\n",
       "      <th>Age</th>\n",
       "      <th>Siblings_Spouse</th>\n",
       "      <th>Parents_Children</th>\n",
       "      <th>Ticket_Number</th>\n",
       "      <th>Passenger_Fare</th>\n",
       "      <th>Cabin</th>\n",
       "      <th>Embarked</th>\n",
       "    </tr>\n",
       "  </thead>\n",
       "  <tbody>\n",
       "    <tr>\n",
       "      <th>1</th>\n",
       "      <td>2</td>\n",
       "      <td>1</td>\n",
       "      <td>1</td>\n",
       "      <td>Cumings, Mrs. John Bradley (Florence Briggs Th...</td>\n",
       "      <td>female</td>\n",
       "      <td>38.0</td>\n",
       "      <td>1.0</td>\n",
       "      <td>0.0</td>\n",
       "      <td>PC 17599</td>\n",
       "      <td>71.2833</td>\n",
       "      <td>C85</td>\n",
       "      <td>C</td>\n",
       "    </tr>\n",
       "    <tr>\n",
       "      <th>7</th>\n",
       "      <td>8</td>\n",
       "      <td>0</td>\n",
       "      <td>3</td>\n",
       "      <td>Palsson, Master. Gosta Leonard</td>\n",
       "      <td>male</td>\n",
       "      <td>2.0</td>\n",
       "      <td>3.0</td>\n",
       "      <td>1.0</td>\n",
       "      <td>349909</td>\n",
       "      <td>21.0750</td>\n",
       "      <td>C23 C25 C27</td>\n",
       "      <td>S</td>\n",
       "    </tr>\n",
       "  </tbody>\n",
       "</table>\n",
       "</div>"
      ],
      "text/plain": [
       "   Passenger_id  Survived  Passenger_class  \\\n",
       "1             2         1                1   \n",
       "7             8         0                3   \n",
       "\n",
       "                                                Name     Sex   Age  \\\n",
       "1  Cumings, Mrs. John Bradley (Florence Briggs Th...  female  38.0   \n",
       "7                     Palsson, Master. Gosta Leonard    male   2.0   \n",
       "\n",
       "   Siblings_Spouse  Parents_Children Ticket_Number  Passenger_Fare  \\\n",
       "1              1.0               0.0      PC 17599         71.2833   \n",
       "7              3.0               1.0        349909         21.0750   \n",
       "\n",
       "         Cabin Embarked  \n",
       "1          C85        C  \n",
       "7  C23 C25 C27        S  "
      ]
     },
     "execution_count": 12,
     "metadata": {},
     "output_type": "execute_result"
    }
   ],
   "source": [
    "df_outliers=df[((df < (Q1-1.5 * IQR)) | (df > (Q3 + 1.5 * IQR))).any(axis=1)]\n",
    "df_outliers.head(2)"
   ]
  },
  {
   "cell_type": "code",
   "execution_count": 13,
   "id": "41e62039",
   "metadata": {},
   "outputs": [
    {
     "data": {
      "text/plain": [
       "(891, 12)"
      ]
     },
     "execution_count": 13,
     "metadata": {},
     "output_type": "execute_result"
    }
   ],
   "source": [
    "a=df.shape\n",
    "a"
   ]
  },
  {
   "cell_type": "code",
   "execution_count": 14,
   "id": "04477123",
   "metadata": {},
   "outputs": [],
   "source": [
    "b=df_outliers.shape"
   ]
  },
  {
   "cell_type": "code",
   "execution_count": 15,
   "id": "33b34fb5",
   "metadata": {},
   "outputs": [
    {
     "data": {
      "text/plain": [
       "577"
      ]
     },
     "execution_count": 15,
     "metadata": {},
     "output_type": "execute_result"
    }
   ],
   "source": [
    "a[0]-b[0]"
   ]
  },
  {
   "cell_type": "code",
   "execution_count": 16,
   "id": "51546c92",
   "metadata": {},
   "outputs": [
    {
     "name": "stderr",
     "output_type": "stream",
     "text": [
      "C:\\Users\\512GB\\AppData\\Local\\Temp\\ipykernel_9232\\2424663518.py:2: FutureWarning: Automatic reindexing on DataFrame vs Series comparisons is deprecated and will raise ValueError in a future version. Do `left, right = left.align(right, axis=1, copy=False)` before e.g. `left == right`\n",
      "  data=df[-((df < (Q1-1.5 * IQR)) | (df > (Q3 + 1.5 * IQR))).any(axis=1)]\n"
     ]
    }
   ],
   "source": [
    "#filter off the outliers\n",
    "data=df[-((df < (Q1-1.5 * IQR)) | (df > (Q3 + 1.5 * IQR))).any(axis=1)]"
   ]
  },
  {
   "cell_type": "code",
   "execution_count": 17,
   "id": "3942d206",
   "metadata": {},
   "outputs": [
    {
     "data": {
      "text/plain": [
       "(577, 12)"
      ]
     },
     "execution_count": 17,
     "metadata": {},
     "output_type": "execute_result"
    }
   ],
   "source": [
    "data.shape"
   ]
  },
  {
   "cell_type": "code",
   "execution_count": 18,
   "id": "778aa42e",
   "metadata": {},
   "outputs": [
    {
     "data": {
      "image/png": "[encoded data removed]",
      "text/plain": [
       "<Figure size 500x500 with 1 Axes>"
      ]
     },
     "metadata": {},
     "output_type": "display_data"
    }
   ],
   "source": [
    "#check for outliers\n",
    "\n",
    "plt.figure(figsize=[5,5])\n",
    "sns.boxplot(data=data, x='Age');"
   ]
  },
  {
   "cell_type": "code",
   "execution_count": 19,
   "id": "79454b63",
   "metadata": {},
   "outputs": [
    {
     "data": {
      "image/png": "[encoded data removed]",
      "text/plain": [
       "<Figure size 500x500 with 1 Axes>"
      ]
     },
     "metadata": {},
     "output_type": "display_data"
    }
   ],
   "source": [
    "plt.figure(figsize=[5,5])\n",
    "sns.boxplot(data=data, x='Siblings_Spouse');"
   ]
  },
  {
   "cell_type": "code",
   "execution_count": 20,
   "id": "dbb0b251",
   "metadata": {},
   "outputs": [
    {
     "data": {
      "image/png": "[encoded data removed]",
      "text/plain": [
       "<Figure size 500x500 with 1 Axes>"
      ]
     },
     "metadata": {},
     "output_type": "display_data"
    }
   ],
   "source": [
    "plt.figure(figsize=[5,5])\n",
    "sns.boxplot(data=data, x='Passenger_Fare');"
   ]
  },
  {
   "cell_type": "code",
   "execution_count": 21,
   "id": "76d12e9b",
   "metadata": {},
   "outputs": [
    {
     "name": "stderr",
     "output_type": "stream",
     "text": [
      "C:\\Users\\512GB\\AppData\\Local\\Temp\\ipykernel_9232\\2358945670.py:2: SettingWithCopyWarning: \n",
      "A value is trying to be set on a copy of a slice from a DataFrame.\n",
      "Try using .loc[row_indexer,col_indexer] = value instead\n",
      "\n",
      "See the caveats in the documentation: https://pandas.pydata.org/pandas-docs/stable/user_guide/indexing.html#returning-a-view-versus-a-copy\n",
      "  data['Survived']=data['Survived'].astype('category')\n"
     ]
    }
   ],
   "source": [
    "#convert the data types accordingly\n",
    "data['Survived']=data['Survived'].astype('category')"
   ]
  },
  {
   "cell_type": "code",
   "execution_count": 22,
   "id": "4b406c8b",
   "metadata": {},
   "outputs": [
    {
     "name": "stderr",
     "output_type": "stream",
     "text": [
      "C:\\Users\\512GB\\AppData\\Local\\Temp\\ipykernel_9232\\2166688282.py:1: SettingWithCopyWarning: \n",
      "A value is trying to be set on a copy of a slice from a DataFrame.\n",
      "Try using .loc[row_indexer,col_indexer] = value instead\n",
      "\n",
      "See the caveats in the documentation: https://pandas.pydata.org/pandas-docs/stable/user_guide/indexing.html#returning-a-view-versus-a-copy\n",
      "  data['Passenger_class']=data['Passenger_class'].astype('category')\n",
      "C:\\Users\\512GB\\AppData\\Local\\Temp\\ipykernel_9232\\2166688282.py:2: SettingWithCopyWarning: \n",
      "A value is trying to be set on a copy of a slice from a DataFrame.\n",
      "Try using .loc[row_indexer,col_indexer] = value instead\n",
      "\n",
      "See the caveats in the documentation: https://pandas.pydata.org/pandas-docs/stable/user_guide/indexing.html#returning-a-view-versus-a-copy\n",
      "  data['Sex']=data['Sex'].astype('category')\n",
      "C:\\Users\\512GB\\AppData\\Local\\Temp\\ipykernel_9232\\2166688282.py:3: SettingWithCopyWarning: \n",
      "A value is trying to be set on a copy of a slice from a DataFrame.\n",
      "Try using .loc[row_indexer,col_indexer] = value instead\n",
      "\n",
      "See the caveats in the documentation: https://pandas.pydata.org/pandas-docs/stable/user_guide/indexing.html#returning-a-view-versus-a-copy\n",
      "  data['Embarked']=data['Embarked'].astype('category')\n"
     ]
    }
   ],
   "source": [
    "data['Passenger_class']=data['Passenger_class'].astype('category')\n",
    "data['Sex']=data['Sex'].astype('category')\n",
    "data['Embarked']=data['Embarked'].astype('category')"
   ]
  },
  {
   "cell_type": "code",
   "execution_count": 23,
   "id": "76dc545a",
   "metadata": {},
   "outputs": [
    {
     "name": "stderr",
     "output_type": "stream",
     "text": [
      "C:\\Users\\512GB\\AppData\\Local\\Temp\\ipykernel_9232\\471137714.py:1: SettingWithCopyWarning: \n",
      "A value is trying to be set on a copy of a slice from a DataFrame.\n",
      "Try using .loc[row_indexer,col_indexer] = value instead\n",
      "\n",
      "See the caveats in the documentation: https://pandas.pydata.org/pandas-docs/stable/user_guide/indexing.html#returning-a-view-versus-a-copy\n",
      "  data['Parents_Children']=data['Parents_Children'].astype('int64')\n"
     ]
    }
   ],
   "source": [
    "data['Parents_Children']=data['Parents_Children'].astype('int64')"
   ]
  },
  {
   "cell_type": "code",
   "execution_count": 24,
   "id": "f89673e9",
   "metadata": {},
   "outputs": [
    {
     "data": {
      "text/plain": [
       "Passenger_id           int64\n",
       "Survived            category\n",
       "Passenger_class     category\n",
       "Name                  object\n",
       "Sex                 category\n",
       "Age                  float64\n",
       "Siblings_Spouse      float64\n",
       "Parents_Children       int64\n",
       "Ticket_Number         object\n",
       "Passenger_Fare       float64\n",
       "Cabin                 object\n",
       "Embarked            category\n",
       "dtype: object"
      ]
     },
     "execution_count": 24,
     "metadata": {},
     "output_type": "execute_result"
    }
   ],
   "source": [
    "#check\n",
    "data.dtypes"
   ]
  },
  {
   "cell_type": "code",
   "execution_count": 25,
   "id": "af466bc5",
   "metadata": {},
   "outputs": [],
   "source": [
    "#drop some columns that will not obviously have impact on the model\n",
    "data=data.drop(columns=['Passenger_id','Name','Ticket_Number','Cabin'],axis=1)"
   ]
  },
  {
   "cell_type": "code",
   "execution_count": 26,
   "id": "43479867",
   "metadata": {},
   "outputs": [
    {
     "data": {
      "text/html": [
       "<div>\n",
       "<style scoped>\n",
       "    .dataframe tbody tr th:only-of-type {\n",
       "        vertical-align: middle;\n",
       "    }\n",
       "\n",
       "    .dataframe tbody tr th {\n",
       "        vertical-align: top;\n",
       "    }\n",
       "\n",
       "    .dataframe thead th {\n",
       "        text-align: right;\n",
       "    }\n",
       "</style>\n",
       "<table border=\"1\" class=\"dataframe\">\n",
       "  <thead>\n",
       "    <tr style=\"text-align: right;\">\n",
       "      <th></th>\n",
       "      <th>Survived</th>\n",
       "      <th>Passenger_class</th>\n",
       "      <th>Sex</th>\n",
       "      <th>Age</th>\n",
       "      <th>Siblings_Spouse</th>\n",
       "      <th>Parents_Children</th>\n",
       "      <th>Passenger_Fare</th>\n",
       "      <th>Embarked</th>\n",
       "    </tr>\n",
       "  </thead>\n",
       "  <tbody>\n",
       "    <tr>\n",
       "      <th>0</th>\n",
       "      <td>0</td>\n",
       "      <td>3</td>\n",
       "      <td>male</td>\n",
       "      <td>22.0</td>\n",
       "      <td>1.0</td>\n",
       "      <td>0</td>\n",
       "      <td>7.250</td>\n",
       "      <td>S</td>\n",
       "    </tr>\n",
       "    <tr>\n",
       "      <th>2</th>\n",
       "      <td>1</td>\n",
       "      <td>3</td>\n",
       "      <td>female</td>\n",
       "      <td>26.0</td>\n",
       "      <td>0.0</td>\n",
       "      <td>0</td>\n",
       "      <td>7.925</td>\n",
       "      <td>S</td>\n",
       "    </tr>\n",
       "    <tr>\n",
       "      <th>3</th>\n",
       "      <td>1</td>\n",
       "      <td>1</td>\n",
       "      <td>female</td>\n",
       "      <td>35.0</td>\n",
       "      <td>1.0</td>\n",
       "      <td>0</td>\n",
       "      <td>53.100</td>\n",
       "      <td>S</td>\n",
       "    </tr>\n",
       "  </tbody>\n",
       "</table>\n",
       "</div>"
      ],
      "text/plain": [
       "  Survived Passenger_class     Sex   Age  Siblings_Spouse  Parents_Children  \\\n",
       "0        0               3    male  22.0              1.0                 0   \n",
       "2        1               3  female  26.0              0.0                 0   \n",
       "3        1               1  female  35.0              1.0                 0   \n",
       "\n",
       "   Passenger_Fare Embarked  \n",
       "0           7.250        S  \n",
       "2           7.925        S  \n",
       "3          53.100        S  "
      ]
     },
     "execution_count": 26,
     "metadata": {},
     "output_type": "execute_result"
    }
   ],
   "source": [
    "data.head(3)"
   ]
  },
  {
   "cell_type": "code",
   "execution_count": 27,
   "id": "121973ed",
   "metadata": {},
   "outputs": [],
   "source": [
    "#perform encoding\n",
    "dummies=pd.get_dummies(data[['Passenger_class','Sex','Embarked']])"
   ]
  },
  {
   "cell_type": "code",
   "execution_count": 28,
   "id": "0284cf64",
   "metadata": {},
   "outputs": [
    {
     "data": {
      "text/html": [
       "<div>\n",
       "<style scoped>\n",
       "    .dataframe tbody tr th:only-of-type {\n",
       "        vertical-align: middle;\n",
       "    }\n",
       "\n",
       "    .dataframe tbody tr th {\n",
       "        vertical-align: top;\n",
       "    }\n",
       "\n",
       "    .dataframe thead th {\n",
       "        text-align: right;\n",
       "    }\n",
       "</style>\n",
       "<table border=\"1\" class=\"dataframe\">\n",
       "  <thead>\n",
       "    <tr style=\"text-align: right;\">\n",
       "      <th></th>\n",
       "      <th>Passenger_class_1</th>\n",
       "      <th>Passenger_class_2</th>\n",
       "      <th>Passenger_class_3</th>\n",
       "      <th>Sex_female</th>\n",
       "      <th>Sex_male</th>\n",
       "      <th>Embarked_C</th>\n",
       "      <th>Embarked_Q</th>\n",
       "      <th>Embarked_S</th>\n",
       "    </tr>\n",
       "  </thead>\n",
       "  <tbody>\n",
       "    <tr>\n",
       "      <th>0</th>\n",
       "      <td>0</td>\n",
       "      <td>0</td>\n",
       "      <td>1</td>\n",
       "      <td>0</td>\n",
       "      <td>1</td>\n",
       "      <td>0</td>\n",
       "      <td>0</td>\n",
       "      <td>1</td>\n",
       "    </tr>\n",
       "    <tr>\n",
       "      <th>2</th>\n",
       "      <td>0</td>\n",
       "      <td>0</td>\n",
       "      <td>1</td>\n",
       "      <td>1</td>\n",
       "      <td>0</td>\n",
       "      <td>0</td>\n",
       "      <td>0</td>\n",
       "      <td>1</td>\n",
       "    </tr>\n",
       "  </tbody>\n",
       "</table>\n",
       "</div>"
      ],
      "text/plain": [
       "   Passenger_class_1  Passenger_class_2  Passenger_class_3  Sex_female  \\\n",
       "0                  0                  0                  1           0   \n",
       "2                  0                  0                  1           1   \n",
       "\n",
       "   Sex_male  Embarked_C  Embarked_Q  Embarked_S  \n",
       "0         1           0           0           1  \n",
       "2         0           0           0           1  "
      ]
     },
     "execution_count": 28,
     "metadata": {},
     "output_type": "execute_result"
    }
   ],
   "source": [
    "dummies.head(2)"
   ]
  },
  {
   "cell_type": "code",
   "execution_count": 29,
   "id": "209c58ef",
   "metadata": {},
   "outputs": [],
   "source": [
    "#join the dummy and real data \n",
    "df=pd.concat([data, dummies], axis=1)"
   ]
  },
  {
   "cell_type": "code",
   "execution_count": 30,
   "id": "66bd051e",
   "metadata": {},
   "outputs": [
    {
     "data": {
      "text/html": [
       "<div>\n",
       "<style scoped>\n",
       "    .dataframe tbody tr th:only-of-type {\n",
       "        vertical-align: middle;\n",
       "    }\n",
       "\n",
       "    .dataframe tbody tr th {\n",
       "        vertical-align: top;\n",
       "    }\n",
       "\n",
       "    .dataframe thead th {\n",
       "        text-align: right;\n",
       "    }\n",
       "</style>\n",
       "<table border=\"1\" class=\"dataframe\">\n",
       "  <thead>\n",
       "    <tr style=\"text-align: right;\">\n",
       "      <th></th>\n",
       "      <th>Survived</th>\n",
       "      <th>Passenger_class</th>\n",
       "      <th>Sex</th>\n",
       "      <th>Age</th>\n",
       "      <th>Siblings_Spouse</th>\n",
       "      <th>Parents_Children</th>\n",
       "      <th>Passenger_Fare</th>\n",
       "      <th>Embarked</th>\n",
       "      <th>Passenger_class_1</th>\n",
       "      <th>Passenger_class_2</th>\n",
       "      <th>Passenger_class_3</th>\n",
       "      <th>Sex_female</th>\n",
       "      <th>Sex_male</th>\n",
       "      <th>Embarked_C</th>\n",
       "      <th>Embarked_Q</th>\n",
       "      <th>Embarked_S</th>\n",
       "    </tr>\n",
       "  </thead>\n",
       "  <tbody>\n",
       "    <tr>\n",
       "      <th>0</th>\n",
       "      <td>0</td>\n",
       "      <td>3</td>\n",
       "      <td>male</td>\n",
       "      <td>22.0</td>\n",
       "      <td>1.0</td>\n",
       "      <td>0</td>\n",
       "      <td>7.250</td>\n",
       "      <td>S</td>\n",
       "      <td>0</td>\n",
       "      <td>0</td>\n",
       "      <td>1</td>\n",
       "      <td>0</td>\n",
       "      <td>1</td>\n",
       "      <td>0</td>\n",
       "      <td>0</td>\n",
       "      <td>1</td>\n",
       "    </tr>\n",
       "    <tr>\n",
       "      <th>2</th>\n",
       "      <td>1</td>\n",
       "      <td>3</td>\n",
       "      <td>female</td>\n",
       "      <td>26.0</td>\n",
       "      <td>0.0</td>\n",
       "      <td>0</td>\n",
       "      <td>7.925</td>\n",
       "      <td>S</td>\n",
       "      <td>0</td>\n",
       "      <td>0</td>\n",
       "      <td>1</td>\n",
       "      <td>1</td>\n",
       "      <td>0</td>\n",
       "      <td>0</td>\n",
       "      <td>0</td>\n",
       "      <td>1</td>\n",
       "    </tr>\n",
       "  </tbody>\n",
       "</table>\n",
       "</div>"
      ],
      "text/plain": [
       "  Survived Passenger_class     Sex   Age  Siblings_Spouse  Parents_Children  \\\n",
       "0        0               3    male  22.0              1.0                 0   \n",
       "2        1               3  female  26.0              0.0                 0   \n",
       "\n",
       "   Passenger_Fare Embarked  Passenger_class_1  Passenger_class_2  \\\n",
       "0           7.250        S                  0                  0   \n",
       "2           7.925        S                  0                  0   \n",
       "\n",
       "   Passenger_class_3  Sex_female  Sex_male  Embarked_C  Embarked_Q  Embarked_S  \n",
       "0                  1           0         1           0           0           1  \n",
       "2                  1           1         0           0           0           1  "
      ]
     },
     "execution_count": 30,
     "metadata": {},
     "output_type": "execute_result"
    }
   ],
   "source": [
    "df.head(2)"
   ]
  },
  {
   "cell_type": "code",
   "execution_count": 31,
   "id": "58a90436",
   "metadata": {},
   "outputs": [],
   "source": [
    "#drop the columns dummied\n",
    "df=df.drop(columns=['Sex','Passenger_class','Embarked'], axis=1)"
   ]
  },
  {
   "cell_type": "code",
   "execution_count": 32,
   "id": "f34fdb64",
   "metadata": {},
   "outputs": [],
   "source": [
    "#resacle the data\n",
    "features=df.drop(columns=['Survived'],axis=1)\n",
    "response=df['Survived']"
   ]
  },
  {
   "cell_type": "code",
   "execution_count": 33,
   "id": "94450fa3",
   "metadata": {},
   "outputs": [
    {
     "data": {
      "text/html": [
       "<div>\n",
       "<style scoped>\n",
       "    .dataframe tbody tr th:only-of-type {\n",
       "        vertical-align: middle;\n",
       "    }\n",
       "\n",
       "    .dataframe tbody tr th {\n",
       "        vertical-align: top;\n",
       "    }\n",
       "\n",
       "    .dataframe thead th {\n",
       "        text-align: right;\n",
       "    }\n",
       "</style>\n",
       "<table border=\"1\" class=\"dataframe\">\n",
       "  <thead>\n",
       "    <tr style=\"text-align: right;\">\n",
       "      <th></th>\n",
       "      <th>Age</th>\n",
       "      <th>Siblings_Spouse</th>\n",
       "      <th>Parents_Children</th>\n",
       "      <th>Passenger_Fare</th>\n",
       "      <th>Passenger_class_1</th>\n",
       "      <th>Passenger_class_2</th>\n",
       "      <th>Passenger_class_3</th>\n",
       "      <th>Sex_female</th>\n",
       "      <th>Sex_male</th>\n",
       "      <th>Embarked_C</th>\n",
       "      <th>Embarked_Q</th>\n",
       "      <th>Embarked_S</th>\n",
       "    </tr>\n",
       "  </thead>\n",
       "  <tbody>\n",
       "    <tr>\n",
       "      <th>0</th>\n",
       "      <td>22.0</td>\n",
       "      <td>1.0</td>\n",
       "      <td>0</td>\n",
       "      <td>7.2500</td>\n",
       "      <td>0</td>\n",
       "      <td>0</td>\n",
       "      <td>1</td>\n",
       "      <td>0</td>\n",
       "      <td>1</td>\n",
       "      <td>0</td>\n",
       "      <td>0</td>\n",
       "      <td>1</td>\n",
       "    </tr>\n",
       "    <tr>\n",
       "      <th>2</th>\n",
       "      <td>26.0</td>\n",
       "      <td>0.0</td>\n",
       "      <td>0</td>\n",
       "      <td>7.9250</td>\n",
       "      <td>0</td>\n",
       "      <td>0</td>\n",
       "      <td>1</td>\n",
       "      <td>1</td>\n",
       "      <td>0</td>\n",
       "      <td>0</td>\n",
       "      <td>0</td>\n",
       "      <td>1</td>\n",
       "    </tr>\n",
       "    <tr>\n",
       "      <th>3</th>\n",
       "      <td>35.0</td>\n",
       "      <td>1.0</td>\n",
       "      <td>0</td>\n",
       "      <td>53.1000</td>\n",
       "      <td>1</td>\n",
       "      <td>0</td>\n",
       "      <td>0</td>\n",
       "      <td>1</td>\n",
       "      <td>0</td>\n",
       "      <td>0</td>\n",
       "      <td>0</td>\n",
       "      <td>1</td>\n",
       "    </tr>\n",
       "    <tr>\n",
       "      <th>4</th>\n",
       "      <td>35.0</td>\n",
       "      <td>0.0</td>\n",
       "      <td>0</td>\n",
       "      <td>8.0500</td>\n",
       "      <td>0</td>\n",
       "      <td>0</td>\n",
       "      <td>1</td>\n",
       "      <td>0</td>\n",
       "      <td>1</td>\n",
       "      <td>0</td>\n",
       "      <td>0</td>\n",
       "      <td>1</td>\n",
       "    </tr>\n",
       "    <tr>\n",
       "      <th>5</th>\n",
       "      <td>28.0</td>\n",
       "      <td>0.0</td>\n",
       "      <td>0</td>\n",
       "      <td>8.4583</td>\n",
       "      <td>0</td>\n",
       "      <td>0</td>\n",
       "      <td>1</td>\n",
       "      <td>0</td>\n",
       "      <td>1</td>\n",
       "      <td>0</td>\n",
       "      <td>1</td>\n",
       "      <td>0</td>\n",
       "    </tr>\n",
       "    <tr>\n",
       "      <th>...</th>\n",
       "      <td>...</td>\n",
       "      <td>...</td>\n",
       "      <td>...</td>\n",
       "      <td>...</td>\n",
       "      <td>...</td>\n",
       "      <td>...</td>\n",
       "      <td>...</td>\n",
       "      <td>...</td>\n",
       "      <td>...</td>\n",
       "      <td>...</td>\n",
       "      <td>...</td>\n",
       "      <td>...</td>\n",
       "    </tr>\n",
       "    <tr>\n",
       "      <th>884</th>\n",
       "      <td>25.0</td>\n",
       "      <td>0.0</td>\n",
       "      <td>0</td>\n",
       "      <td>7.0500</td>\n",
       "      <td>0</td>\n",
       "      <td>0</td>\n",
       "      <td>1</td>\n",
       "      <td>0</td>\n",
       "      <td>1</td>\n",
       "      <td>0</td>\n",
       "      <td>0</td>\n",
       "      <td>1</td>\n",
       "    </tr>\n",
       "    <tr>\n",
       "      <th>886</th>\n",
       "      <td>27.0</td>\n",
       "      <td>0.0</td>\n",
       "      <td>0</td>\n",
       "      <td>13.0000</td>\n",
       "      <td>0</td>\n",
       "      <td>1</td>\n",
       "      <td>0</td>\n",
       "      <td>0</td>\n",
       "      <td>1</td>\n",
       "      <td>0</td>\n",
       "      <td>0</td>\n",
       "      <td>1</td>\n",
       "    </tr>\n",
       "    <tr>\n",
       "      <th>887</th>\n",
       "      <td>19.0</td>\n",
       "      <td>0.0</td>\n",
       "      <td>0</td>\n",
       "      <td>30.0000</td>\n",
       "      <td>1</td>\n",
       "      <td>0</td>\n",
       "      <td>0</td>\n",
       "      <td>1</td>\n",
       "      <td>0</td>\n",
       "      <td>0</td>\n",
       "      <td>0</td>\n",
       "      <td>1</td>\n",
       "    </tr>\n",
       "    <tr>\n",
       "      <th>889</th>\n",
       "      <td>26.0</td>\n",
       "      <td>0.0</td>\n",
       "      <td>0</td>\n",
       "      <td>30.0000</td>\n",
       "      <td>1</td>\n",
       "      <td>0</td>\n",
       "      <td>0</td>\n",
       "      <td>0</td>\n",
       "      <td>1</td>\n",
       "      <td>1</td>\n",
       "      <td>0</td>\n",
       "      <td>0</td>\n",
       "    </tr>\n",
       "    <tr>\n",
       "      <th>890</th>\n",
       "      <td>32.0</td>\n",
       "      <td>0.0</td>\n",
       "      <td>0</td>\n",
       "      <td>7.7500</td>\n",
       "      <td>0</td>\n",
       "      <td>0</td>\n",
       "      <td>1</td>\n",
       "      <td>0</td>\n",
       "      <td>1</td>\n",
       "      <td>0</td>\n",
       "      <td>1</td>\n",
       "      <td>0</td>\n",
       "    </tr>\n",
       "  </tbody>\n",
       "</table>\n",
       "<p>577 rows × 12 columns</p>\n",
       "</div>"
      ],
      "text/plain": [
       "      Age  Siblings_Spouse  Parents_Children  Passenger_Fare  \\\n",
       "0    22.0              1.0                 0          7.2500   \n",
       "2    26.0              0.0                 0          7.9250   \n",
       "3    35.0              1.0                 0         53.1000   \n",
       "4    35.0              0.0                 0          8.0500   \n",
       "5    28.0              0.0                 0          8.4583   \n",
       "..    ...              ...               ...             ...   \n",
       "884  25.0              0.0                 0          7.0500   \n",
       "886  27.0              0.0                 0         13.0000   \n",
       "887  19.0              0.0                 0         30.0000   \n",
       "889  26.0              0.0                 0         30.0000   \n",
       "890  32.0              0.0                 0          7.7500   \n",
       "\n",
       "     Passenger_class_1  Passenger_class_2  Passenger_class_3  Sex_female  \\\n",
       "0                    0                  0                  1           0   \n",
       "2                    0                  0                  1           1   \n",
       "3                    1                  0                  0           1   \n",
       "4                    0                  0                  1           0   \n",
       "5                    0                  0                  1           0   \n",
       "..                 ...                ...                ...         ...   \n",
       "884                  0                  0                  1           0   \n",
       "886                  0                  1                  0           0   \n",
       "887                  1                  0                  0           1   \n",
       "889                  1                  0                  0           0   \n",
       "890                  0                  0                  1           0   \n",
       "\n",
       "     Sex_male  Embarked_C  Embarked_Q  Embarked_S  \n",
       "0           1           0           0           1  \n",
       "2           0           0           0           1  \n",
       "3           0           0           0           1  \n",
       "4           1           0           0           1  \n",
       "5           1           0           1           0  \n",
       "..        ...         ...         ...         ...  \n",
       "884         1           0           0           1  \n",
       "886         1           0           0           1  \n",
       "887         0           0           0           1  \n",
       "889         1           1           0           0  \n",
       "890         1           0           1           0  \n",
       "\n",
       "[577 rows x 12 columns]"
      ]
     },
     "execution_count": 33,
     "metadata": {},
     "output_type": "execute_result"
    }
   ],
   "source": [
    "#display the newly scaled data\n",
    "features"
   ]
  },
  {
   "cell_type": "code",
   "execution_count": 34,
   "id": "18690854",
   "metadata": {},
   "outputs": [],
   "source": [
    "#rescale or normalize the features\n",
    "features= (features - features.mean())/features.std()"
   ]
  },
  {
   "cell_type": "code",
   "execution_count": 35,
   "id": "de9c6274",
   "metadata": {},
   "outputs": [
    {
     "data": {
      "text/html": [
       "<div>\n",
       "<style scoped>\n",
       "    .dataframe tbody tr th:only-of-type {\n",
       "        vertical-align: middle;\n",
       "    }\n",
       "\n",
       "    .dataframe tbody tr th {\n",
       "        vertical-align: top;\n",
       "    }\n",
       "\n",
       "    .dataframe thead th {\n",
       "        text-align: right;\n",
       "    }\n",
       "</style>\n",
       "<table border=\"1\" class=\"dataframe\">\n",
       "  <thead>\n",
       "    <tr style=\"text-align: right;\">\n",
       "      <th></th>\n",
       "      <th>Age</th>\n",
       "      <th>Siblings_Spouse</th>\n",
       "      <th>Parents_Children</th>\n",
       "      <th>Passenger_Fare</th>\n",
       "      <th>Passenger_class_1</th>\n",
       "      <th>Passenger_class_2</th>\n",
       "      <th>Passenger_class_3</th>\n",
       "      <th>Sex_female</th>\n",
       "      <th>Sex_male</th>\n",
       "      <th>Embarked_C</th>\n",
       "      <th>Embarked_Q</th>\n",
       "      <th>Embarked_S</th>\n",
       "    </tr>\n",
       "  </thead>\n",
       "  <tbody>\n",
       "    <tr>\n",
       "      <th>0</th>\n",
       "      <td>-0.854020</td>\n",
       "      <td>1.799174</td>\n",
       "      <td>NaN</td>\n",
       "      <td>-0.608919</td>\n",
       "      <td>-0.409542</td>\n",
       "      <td>-0.514676</td>\n",
       "      <td>0.738897</td>\n",
       "      <td>-0.573517</td>\n",
       "      <td>0.573517</td>\n",
       "      <td>-0.400858</td>\n",
       "      <td>-0.352902</td>\n",
       "      <td>0.576183</td>\n",
       "    </tr>\n",
       "    <tr>\n",
       "      <th>2</th>\n",
       "      <td>-0.386275</td>\n",
       "      <td>-0.447846</td>\n",
       "      <td>NaN</td>\n",
       "      <td>-0.555376</td>\n",
       "      <td>-0.409542</td>\n",
       "      <td>-0.514676</td>\n",
       "      <td>0.738897</td>\n",
       "      <td>1.740605</td>\n",
       "      <td>-1.740605</td>\n",
       "      <td>-0.400858</td>\n",
       "      <td>-0.352902</td>\n",
       "      <td>0.576183</td>\n",
       "    </tr>\n",
       "    <tr>\n",
       "      <th>3</th>\n",
       "      <td>0.666152</td>\n",
       "      <td>1.799174</td>\n",
       "      <td>NaN</td>\n",
       "      <td>3.028087</td>\n",
       "      <td>2.437518</td>\n",
       "      <td>-0.514676</td>\n",
       "      <td>-1.351023</td>\n",
       "      <td>1.740605</td>\n",
       "      <td>-1.740605</td>\n",
       "      <td>-0.400858</td>\n",
       "      <td>-0.352902</td>\n",
       "      <td>0.576183</td>\n",
       "    </tr>\n",
       "    <tr>\n",
       "      <th>4</th>\n",
       "      <td>0.666152</td>\n",
       "      <td>-0.447846</td>\n",
       "      <td>NaN</td>\n",
       "      <td>-0.545460</td>\n",
       "      <td>-0.409542</td>\n",
       "      <td>-0.514676</td>\n",
       "      <td>0.738897</td>\n",
       "      <td>-0.573517</td>\n",
       "      <td>0.573517</td>\n",
       "      <td>-0.400858</td>\n",
       "      <td>-0.352902</td>\n",
       "      <td>0.576183</td>\n",
       "    </tr>\n",
       "    <tr>\n",
       "      <th>5</th>\n",
       "      <td>-0.152402</td>\n",
       "      <td>-0.447846</td>\n",
       "      <td>NaN</td>\n",
       "      <td>-0.513072</td>\n",
       "      <td>-0.409542</td>\n",
       "      <td>-0.514676</td>\n",
       "      <td>0.738897</td>\n",
       "      <td>-0.573517</td>\n",
       "      <td>0.573517</td>\n",
       "      <td>-0.400858</td>\n",
       "      <td>2.828733</td>\n",
       "      <td>-1.732551</td>\n",
       "    </tr>\n",
       "  </tbody>\n",
       "</table>\n",
       "</div>"
      ],
      "text/plain": [
       "        Age  Siblings_Spouse  Parents_Children  Passenger_Fare  \\\n",
       "0 -0.854020         1.799174               NaN       -0.608919   \n",
       "2 -0.386275        -0.447846               NaN       -0.555376   \n",
       "3  0.666152         1.799174               NaN        3.028087   \n",
       "4  0.666152        -0.447846               NaN       -0.545460   \n",
       "5 -0.152402        -0.447846               NaN       -0.513072   \n",
       "\n",
       "   Passenger_class_1  Passenger_class_2  Passenger_class_3  Sex_female  \\\n",
       "0          -0.409542          -0.514676           0.738897   -0.573517   \n",
       "2          -0.409542          -0.514676           0.738897    1.740605   \n",
       "3           2.437518          -0.514676          -1.351023    1.740605   \n",
       "4          -0.409542          -0.514676           0.738897   -0.573517   \n",
       "5          -0.409542          -0.514676           0.738897   -0.573517   \n",
       "\n",
       "   Sex_male  Embarked_C  Embarked_Q  Embarked_S  \n",
       "0  0.573517   -0.400858   -0.352902    0.576183  \n",
       "2 -1.740605   -0.400858   -0.352902    0.576183  \n",
       "3 -1.740605   -0.400858   -0.352902    0.576183  \n",
       "4  0.573517   -0.400858   -0.352902    0.576183  \n",
       "5  0.573517   -0.400858    2.828733   -1.732551  "
      ]
     },
     "execution_count": 35,
     "metadata": {},
     "output_type": "execute_result"
    }
   ],
   "source": [
    "features.head()"
   ]
  },
  {
   "cell_type": "code",
   "execution_count": 36,
   "id": "be8a4bad",
   "metadata": {},
   "outputs": [
    {
     "data": {
      "text/plain": [
       "array([nan])"
      ]
     },
     "execution_count": 36,
     "metadata": {},
     "output_type": "execute_result"
    }
   ],
   "source": [
    "features['Parents_Children'].unique()"
   ]
  },
  {
   "cell_type": "code",
   "execution_count": 41,
   "id": "5d417f43",
   "metadata": {},
   "outputs": [],
   "source": [
    "#drop the Parents_Children column\n",
    "features=features.drop(columns=['Parents_Children'], axis=1)"
   ]
  },
  {
   "cell_type": "code",
   "execution_count": 42,
   "id": "fd29bb44",
   "metadata": {},
   "outputs": [
    {
     "name": "stdout",
     "output_type": "stream",
     "text": [
      "Age                 -1.144857e-16\n",
      "Siblings_Spouse     -7.194322e-16\n",
      "Passenger_Fare      -9.505202e-16\n",
      "Passenger_class_1    4.086852e-16\n",
      "Passenger_class_2    1.296864e-16\n",
      "Passenger_class_3    1.421932e-16\n",
      "Sex_female           3.952163e-16\n",
      "Sex_male            -3.890591e-16\n",
      "Embarked_C          -8.254518e-17\n",
      "Embarked_Q           2.409011e-16\n",
      "Embarked_S           1.954916e-16\n",
      "dtype: float64 Age                  1.0\n",
      "Siblings_Spouse      1.0\n",
      "Passenger_Fare       1.0\n",
      "Passenger_class_1    1.0\n",
      "Passenger_class_2    1.0\n",
      "Passenger_class_3    1.0\n",
      "Sex_female           1.0\n",
      "Sex_male             1.0\n",
      "Embarked_C           1.0\n",
      "Embarked_Q           1.0\n",
      "Embarked_S           1.0\n",
      "dtype: float64\n"
     ]
    }
   ],
   "source": [
    "#check if data has been standardized\n",
    "print(features.mean(), features.std())"
   ]
  },
  {
   "cell_type": "markdown",
   "id": "d876e297",
   "metadata": {},
   "source": [
    "<a id='mod'></a>\n",
    "## Modeling"
   ]
  },
  {
   "cell_type": "code",
   "execution_count": null,
   "id": "bc0e5ef6",
   "metadata": {},
   "outputs": [],
   "source": []
  }
 ],
 "metadata": {
  "kernelspec": {
   "display_name": "Python 3 (ipykernel)",
   "language": "python",
   "name": "python3"
  },
  "language_info": {
   "codemirror_mode": {
    "name": "ipython",
    "version": 3
   },
   "file_extension": ".py",
   "mimetype": "text/x-python",
   "name": "python",
   "nbconvert_exporter": "python",
   "pygments_lexer": "ipython3",
   "version": "3.9.13"
  }
 },
 "nbformat": 4,
 "nbformat_minor": 5
}
